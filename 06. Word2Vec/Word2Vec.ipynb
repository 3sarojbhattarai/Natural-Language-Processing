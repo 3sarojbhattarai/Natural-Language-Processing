{
 "cells": [
  {
   "cell_type": "code",
   "execution_count": 1,
   "metadata": {},
   "outputs": [
    {
     "name": "stderr",
     "output_type": "stream",
     "text": [
      "/home/thevirusx3/anaconda3/lib/python3.7/site-packages/smart_open/ssh.py:34: UserWarning: paramiko missing, opening SSH/SCP/SFTP paths will be disabled.  `pip install paramiko` to suppress\n",
      "  warnings.warn('paramiko missing, opening SSH/SCP/SFTP paths will be disabled.  `pip install paramiko` to suppress')\n"
     ]
    },
    {
     "name": "stdout",
     "output_type": "stream",
     "text": [
      "[nltk_data] Downloading package stopwords to\n",
      "[nltk_data]     /home/thevirusx3/nltk_data...\n",
      "[nltk_data]   Package stopwords is already up-to-date!\n"
     ]
    },
    {
     "data": {
      "text/plain": [
       "True"
      ]
     },
     "execution_count": 1,
     "metadata": {},
     "output_type": "execute_result"
    }
   ],
   "source": [
    "import nltk\n",
    "import urllib\n",
    "import bs4 as bs\n",
    "import re\n",
    "from gensim.models import Word2Vec\n",
    "from nltk.corpus import stopwords\n",
    "nltk.download('stopwords')"
   ]
  },
  {
   "cell_type": "code",
   "execution_count": 2,
   "metadata": {},
   "outputs": [],
   "source": [
    "# Gettings the data source\n",
    "source = urllib.request.urlopen('https://en.wikipedia.org/wiki/Global_warming').read()"
   ]
  },
  {
   "cell_type": "code",
   "execution_count": 3,
   "metadata": {},
   "outputs": [],
   "source": [
    "# Parsing the data/ creating BeautifulSoup object\n",
    "soup = bs.BeautifulSoup(source,'lxml')"
   ]
  },
  {
   "cell_type": "code",
   "execution_count": 14,
   "metadata": {},
   "outputs": [
    {
     "name": "stdout",
     "output_type": "stream",
     "text": [
      "\n",
      "\n",
      "\n",
      "Global warming is a long-term rise in the average temperature of the Earth's climate system, an aspect of climate change shown by temperature measurements and by multiple effects of the warming.[2][3] Though earlier geological periods also experienced episodes of warming,[4] the term commonly refers to the observed and continuing increase in average air and ocean temperatures since 1900 caused mainly by emissions of greenhouse gasses in the modern industrial economy.[5] In the modern context the terms global warming and climate change are commonly used interchangeably,[6] but climate change includes both global warming and its effects, such as changes to precipitation and impacts that differ by region.[7][8] Many of the observed warming changes since the 1950s are unprecedented in the instrumental temperature record, and in historical and paleoclimate proxy records of climate change over thousands to millions of years.[2]\n",
      "In 2013, the Intergovernmental Panel on Climate Change (IPCC) Fifth Assessment Report concluded, \"It is extremely likely that human influence has been the dominant cause of the observed warming since the mid-20th century.\"[9] The largest human influence has been the emission of greenhouse gases such as carbon dioxide, methane, and nitrous oxide. Climate model projections summarized in the report indicated that during the 21st century, the global surface temperature is likely to rise a further 0.3 to 1.7 °C (0.5 to 3.1 °F) to  2.6 to 4.8 °C (4.7 to 8.6 °F) depending on the rate of greenhouse gas emissions and on climate feedback effects.[10] These findings have been recognized by the national science academies of the major industrialized nations[11][a] and are not disputed by any scientific body of national or international standing.[13][14]\n",
      "Future climate change effects are expected to include rising sea levels, ocean acidification, regional changes in precipitation, and expansion of deserts in the subtropics.[15][16][17] Surface temperature increases are greatest in the Arctic, with the continuing retreat of glaciers, permafrost, and sea ice. Predicted regional precipitation effects include more frequent extreme weather events such as heat waves, droughts, wildfires, heavy rainfall with floods, and heavy snowfall.[18] Effects directly significant to humans are predicted to include the threat to food security from decreasing crop yields, and the abandonment of populated areas due to rising sea levels.[19][20] Environmental impacts appear likely to include the extinction or relocation of ecosystems as they adapt to climate change, with coral reefs,[21] mountain ecosystems, and Arctic ecosystems most immediately threatened.[22] Because the climate system has a large \"inertia\" and greenhouse gases will remain in the atmosphere for a long time, climatic changes and their effects will continue to become more pronounced for many centuries even if further increases to greenhouse gases stop.[23]\n",
      "Possible societal responses to global warming include mitigation by emissions reduction, adaptation to its effects, and possible future climate engineering. Most countries are parties to the United Nations Framework Convention on Climate Change (UNFCCC),[24] whose ultimate objective is to prevent dangerous anthropogenic climate change.[25] Parties to the UNFCCC have agreed that deep cuts in emissions are required[26] and that global warming should be limited to well below 2.0 °C (3.6 °F) compared to pre-industrial levels,[b] with efforts made to limit warming to 1.5 °C (2.7 °F).[28] Some scientists call into question climate adaptation feasibility, with higher emissions scenarios,[29] or the two degree temperature target.[30]\n",
      "Public reactions to global warming and concern about its effects are also increasing. A 2015 global survey showed that a median of 54% of respondents consider it \"a very serious problem\", with significant regional differences: Americans and Chinese (whose economies are responsible for the greatest annual CO2 emissions) are among the least concerned.[31]\n",
      "Multiple independently produced datasets confirm that between 1880 and 2012, the global average (land and ocean) surface temperature increased by 0.85 [0.65 to 1.06] °C.[32] Since 1979 the rate of warming has approximately doubled (7002273279999999999♠0.13±0.03 °C per decade, against 7002273219999999999♠0.07±0.02 °C per decade).[33][34] Climate proxies show the temperature to have been relatively stable over the one or two thousand years before 1850, with regionally varying fluctuations such as the Medieval Warm Period and the Little Ice Age.[35]\n",
      "Although the increase of the average near-surface atmospheric temperature is commonly used to track global warming, over 90% of the additional energy stored in the climate system over the last 50 years has accumulated in the oceans.[36] The rest has melted ice and warmed the continents and the atmosphere.[37][c]\n",
      "The warming evident in the instrumental temperature record is consistent with a wide range of observations, as documented by many independent scientific groups.[38] Examples include sea level rise,[39] widespread melting of snow and land ice,[40] increased heat content of the oceans,[38] increased humidity,[38] and the earlier timing of spring events,[41] e.g., the flowering of plants.[42]\n",
      "Global warming refers to global averages, with the amount of warming varying by region. Since 1979, global average land temperatures have increased about twice as fast as global average ocean temperatures.[43] This is due to the larger heat capacity of the oceans and because oceans lose more heat by evaporation.[44] Where greenhouse gas emissions occur does not impact the location of warming because the major greenhouse gases persist long enough to diffuse across the planet, although localized black carbon deposits on snow and ice do contribute to Arctic warming.[45]\n",
      "The Northern Hemisphere and North Pole have heated much faster than the South Pole and Southern Hemisphere. The Northern Hemisphere not only has much more land, its arrangement around the Arctic Ocean has resulted in the maximum surface area flipping from reflective snow and ice cover to ocean and land surfaces that absorb more sunlight.[46] Arctic temperatures have increased and are predicted to continue to increase during this century at over twice the rate of the rest of the world.[47] As the temperature difference between the Arctic and the equator decreases, ocean currents like the gulf stream that are driven by that temperature difference are weakening.[48] Studies have also linked the rapidly warming Arctic to extreme weather in mid-latitudes as the jet stream becomes more erratic.[49]\n",
      "The rate of ice loss from glaciers and ice sheets in the Antarctic is a key area of uncertainty since Antarctica contains 90% of potential sea level rise.[50] Polar amplification and increased ocean warmth are undermining and threatening to unplug Antarctic glacier outlets, potentially resulting in more rapid sea level rise.[51] To date, increased snowfall in Antarctica has offset some of the ice loss from West Antarctica, with East Antarctica ice sheets recently beginning to shed mass as well.[52][53][54]\n",
      "Because the climate system has large thermal inertia, it can take centuries for the climate to fully adjust. While record-breaking years attract considerable public interest, individual years are less significant than the overall trend. Global surface temperature is subject to short-term fluctuations that overlay long-term trends, and can temporarily mask or magnify them.[55][56]\n",
      "An example of such an episode is the slower rate of surface temperature increase from 1998 to 2012, which was dubbed the global warming hiatus by the media and some scientists.[57][58][59] Throughout this period ocean heat storage continued to progress steadily upwards, and in subsequent years surface temperatures have spiked upwards. Climate models account for the global warming hiatus by incorporating heating and cooling from El Niño / La Nina events, sunspot cycles, and volcanic eruptions that reach the stratosphere.[60]\n",
      "By itself, the climate system may generate random changes in global temperatures for years to decades at a time, but long-term changes emanate only from so-called external forcings.[61][62][63] These forcings are \"external\" to the climate system, but not necessarily external to Earth.[64] Examples of external forcings include changes in the composition of the atmosphere (e.g., increased concentrations of greenhouse gases), solar luminosity, volcanic eruptions, and variations in Earth's orbit around the Sun.[65]\n",
      "The greenhouse effect is the process by which absorption and emission of infrared radiation by gases in a planet's atmosphere warm its lower atmosphere and surface. On Earth, an atmosphere containing naturally occurring amounts of greenhouse gases causes air temperature near the surface to be warmer by about 33 °C (59 °F) than it would be in their absence.[66][d] Without the Earth's atmosphere, the Earth's average temperature would be well below the freezing temperature of water.[67] The major greenhouse gases are water vapour, which causes about 36–70% of the greenhouse effect; carbon dioxide (CO2), which causes 9–26%; methane (CH4), which causes 4–9%; and ozone (O3), which causes 3–7%.[68][69][70]\n",
      "Human activity since the Industrial Revolution has increased the amount of greenhouse gases in the atmosphere, leading to increased radiative forcing from CO2, methane, tropospheric ozone, CFCs, and nitrous oxide. According to work published in 2007, the concentrations of CO2 and methane had increased by 36% and 148% respectively since 1750.[71] These levels are much higher than at any time during the last 800,000 years, the period for which reliable data has been extracted from ice cores.[72][73][74][75] Less direct geological evidence indicates that CO2 values higher than this were last seen about 20 million years ago.[76]\n",
      "Fossil fuel burning has produced about three-quarters of the increase in CO2 from human activity over the past 20 years. The rest of this increase is caused mostly by changes in land-use, particularly deforestation.[77] Another significant non-fuel source of anthropogenic CO2 emissions is the calcination of limestone for clinker production, a chemical process which releases CO2.[78] Estimates of global CO2 emissions in 2011 from fossil fuel combustion, including cement production and gas flaring, was 34.8 billion tonnes (9.5 ± 0.5 PgC), an increase of 54% above emissions in 1990. Coal burning was responsible for 43% of the total emissions, oil 34%, gas 18%, cement 4.9% and gas flaring 0.7%.[79]\n",
      "Readings for CO2 taken at the world's primary benchmark site in Mauna Loa surpassed 400 ppm in 2013. This is likely the first time CO2 levels have been this high for about 4.5 million years.[80][81] Carbon emission rates plateaued from 2014 to 2016, rose by 1.6% in 2017, then rose again by 2.7% in 2018.[82]\n",
      "Over the last three decades of the twentieth century, gross domestic product per capita and population growth were the main drivers of increases in greenhouse gas emissions.[83] CO2 emissions are continuing to rise due to the burning of fossil fuels and land-use change.[84][85]:71 Emissions can be attributed to different regions. Attributions of emissions due to land-use change are subject to considerable uncertainty.[86][87]:289\n",
      "Emissions scenarios, estimates of changes in future emission levels of greenhouse gases, have been projected that depend upon uncertain economic, sociological, technological, and natural developments.[88] In most scenarios, emissions continue to rise over the century, while in a few, emissions are reduced.[89][90] Fossil fuel reserves are abundant, and will not limit carbon emissions in the 21st century.[91] Emission scenarios, combined with modelling of the carbon cycle, have been used to produce estimates of how atmospheric concentrations of greenhouse gases might change in the future.[92] Using the six IPCC SRES \"marker\" scenarios, models suggest that by the year 2100, the atmospheric concentration of CO2 could range between 541 and 970 ppm.[93]\n",
      "Global dimming, a gradual reduction in the amount of sunlight reaching the Earth's surface, was observed from 1961 until 1990.[96] Solid and liquid particles known as aerosols, produced by volcanoes and human-made pollutants, are thought to be the main cause of this dimming. They exert a cooling effect by reflecting incoming sunlight, with NASA estimating that between 1850 and 2010 aerosols limited global warming by 1 degree Celsius.[97] Aerosol removal by precipitation gives tropospheric aerosols an atmospheric lifetime of only about a week, while stratospheric aerosols can remain for a few years.[98] Global aerosols have been declining since 1990, removing some of the masking of global warming that aerosols had been providing.[99][100][101]\n",
      "In addition to their direct effect by scattering and absorbing solar radiation, aerosols have indirect effects on the Earth's radiation budget. Sulfate aerosols act as cloud condensation nuclei and thus lead to clouds that have more and smaller cloud droplets. These clouds reflect solar radiation more efficiently than clouds with fewer and larger droplets, a phenomenon known as the Twomey effect.[102] This effect also causes droplets to be of more uniform size, which reduces growth of raindrops and makes the cloud more reflective to incoming sunlight, known as the Albrecht effect.[103] Indirect effects are most noticeable in marine stratiform clouds, and have very little radiative effect on convective clouds. Indirect effects of aerosols represent the largest uncertainty in radiative forcing.[104]\n",
      "While aerosols typically limit global warming by reflecting sunlight, black carbon in soot can also increase global warming when deposited on snow and ice. Not only does it increase the absorption of sunlight, it also directly exacerbates melting and sea level rise.[105][106] Limiting new black carbon deposits in the Arctic could reduce global warming by 0.2 degrees Celsius by 2050.[107] When soot is suspended in the atmosphere it directly absorbs solar radiation, heating the atmosphere and cooling the surface. In isolated areas with high soot production, such as rural India, as much as 50% of surface warming due to greenhouse gases may be masked by atmospheric brown clouds.[108][109] The influences of atmospheric particles, including black carbon, are most pronounced in the tropics and sub-tropics, particularly in Asia, while the effects of greenhouse gases are dominant in the extratropics and southern hemisphere.[110]\n",
      "Since 1978, solar irradiance has been measured by satellites.[111] Climate models have been used to examine the role of the Sun in recent climate change.[112] Models are unable to reproduce the rapid warming observed in recent decades when only taking into account variations in solar output and volcanic activity.[113][114]\n",
      "Another line of evidence for the warming not being attributable to the Sun is the differing temperature changes at different levels in the Earth's atmosphere.[115] According to basic physical principles, the greenhouse effect produces warming of the lower atmosphere (the troposphere), but cooling of the upper atmosphere (the stratosphere).[116][117] If solar variations were responsible for the observed warming, warming of both the troposphere and the stratosphere would be expected, but that has not been the case.[118]\n",
      "While variations in solar activity have not produced recent global warming, variations in solar output over geologic time (millions to billions of years ago) are believed to have caused major changes in the earth's climate.[119] The 11 year solar cycle of sunspot activity also introduces climate changes that have a small cyclical effect on annual global temperatures.[120]\n",
      "The tilt of the Earth's axis and the shape of its orbit around the Sun vary slowly over tens of thousands of years. This changes climate by changing the seasonal and latitudinal distribution of incoming solar energy at the Earth's surface.[121] By reviewing ice cores and seafloor sediments, it has been found that periodic glacial and interglacial periods over last few million years have been driven by this process.[122]\n",
      "During the last few thousand years, this phenomenon contributed to a slow cooling trend at high latitudes of the Northern Hemisphere during summer, a trend that was reversed by greenhouse-gas-induced warming during the 20th century.[123][124][125][126] Orbital cycles favorable for glaciation are not expected within the next 50,000 years.[127][128]\n",
      "The response of the climate system to an initial forcing is increased by positive feedbacks and reduced by negative feedbacks.[130] The main negative feedback to global temperature change is radiative cooling to space as infrared radiation, which increases strongly with increasing temperature.[131] Uncertainty over the effect of other feedbacks is the major reason why different climate models project different magnitudes of warming for a given forcing scenario.[132]\n",
      "Arctic amplification has caused Arctic temperatures to increase at almost twice the rate of the rest of the world,[47] resulting in a strong positive feedback to global temperature averages. The reduction of snow cover and sea ice in the Arctic reduces the albedo (reflectivity) of the Earth's surface.[133] Arctic amplification also causes methane to be released as permafrost melts, which is expected to surpass land use changes as the second strongest anthropogenic source of greenhouse gases by the end of the century.[134]\n",
      "Carbon dioxide stimulates plant growth so the carbon cycle has been a negative feedback so far: roughly half of each year's CO2 emissions have been absorbed by plants on land and in oceans,[135] , with an estimated 30% increase in plant growth from 2000 to 2017.[136] The limits and reversal point for this feedback are an area of uncertainty.[137] As more CO2 and heat are absorbed by the ocean it is acidifying and ocean circulation can change, changing the rate at which the ocean can absorb atmospheric carbon.[138] On land, greater plant growth will be constrained by nitrogen levels and can be reversed by plant heat stress, desertification, and the release of carbon from soil as the ground warms.[139]\n",
      "Another major uncertainty is how cloud cover may change in the future. To date, cloud cover has also been a negative feedback, with NASA estimating that aerosols produced by the burning of hydrocarbons have limited warming by half from 1850 to 2010.[97] An analysis of satellite data between 1983 and 2009 reveals that cloud tops are reaching higher into the atmosphere and that cloudy storm tracks are shifting toward Earth's poles, suggesting clouds will be a positive feedback in the future.[140] A 2019 study predicts that if greenhouse gases reach three times the current level of atmospheric carbon dioxide that stratocumulus clouds could abruptly disperse, contributing an additional 8 degrees Celsius of warming.[141]\n",
      "A concern is that positive feedbacks will lead to a tipping point, where global temperatures transition to a hothouse climate state even if greenhouse gas emissions are reduced or eliminated. A 2018 study tried to identify such a planetary threshold for self-reinforcing feedbacks and found that even a 2 °C (3.6 °F) increase in temperature over pre-industrial levels, may be enough to trigger such a hothouse Earth scenario.[142][143][144]\n",
      "A climate model is a representation of the physical, chemical and biological processes that affect the climate system.[147] Computer models are then run on supercomputers to reproduce and predict the circulation of the oceans, the annual cycle of the seasons, and the flows of carbon between the land surface and the atmosphere.[148] There are more than two dozen scientific institutions that develop climate models.[148] Model forecasts vary due to different greenhouse gas inputs and different assumptions about the impact of different feedbacks on climate sensitivity.\n",
      "A subset of climate models add societal factors to a simple physical climate model. These models simulate how population, economic growth and energy use affect – and interact with – the physical climate. With this information, scientists can produce scenarios of how greenhouse gas emissions may vary in the future. Scientists can then run these scenarios through physical climate models to generate climate change projection.[148]\n",
      "Climate models include different external forcings for their models. For different greenhouse gas inputs four RCPs (Representative Concentration Pathways) are used: \"a stringent mitigation scenario (RCP2.6), two intermediate scenarios (RCP4.5 and RCP6.0) and one scenario with very high GHG emissions (RCP8.5).[149] Models also include changes in the Earth's orbit, historical changes in the sun's activity and volcanic forcing.[148] RCPs only look at concentrations of greenhouse gases, factoring out uncertainty as to whether the carbon cycle will continue to remove about half of the carbon dioxide from the atmosphere each year.[150]\n",
      "The physical realism of models is tested by examining their ability to simulate contemporary or past climates.[151] Past models have underestimated the rate of Arctic shrinkage[152] and underestimated the rate of precipitation increase.[153] Sea level rise since 1990 was underestimated in older models, but now agrees well with observations.[154][155] The 2017 United States-published National Climate Assessment notes that \"climate models may still be underestimating or missing relevant feedback processes\".[156]\n",
      "The environmental effects of global warming are broad and far-reaching. They include the following diverse effects:\n",
      "Ecosystem changes: In terrestrial ecosystems, the earlier timing of spring events, as well as poleward and upward shifts in plant and animal ranges, have been linked with high confidence to recent warming.[181] It is expected that most ecosystems will be affected by higher atmospheric CO2 levels, combined with higher global temperatures.[182] Expansion of deserts in the subtropics is probably linked to global warming.[17] Ocean acidification threatens damage to coral reefs, fisheries, protected species, and other natural resources of value to society.[169][183] Without substantial actions to reduce the rate of global warming, land-based ecosystems are at risk of major ecological shifts, transforming composition and structure.[184]\n",
      "Overall, it is expected that climate change will result in the extinction of many species and reduced diversity of ecosystems.[185] Rising temperatures have been found to push bees to their physiological limits, and could cause the extinction of bee populations.[186] Continued ocean uptake of CO2 may affect the brains and central nervous system of certain fish species, and that this impacts their ability to hear, smell, and evade predators.[187]\n",
      "The effects of climate change on human systems, mostly due to warming or shifts in precipitation patterns, or both, have been detected worldwide. The future social impacts of climate change will be uneven across the world.[188] Many risks are expected to increase with higher magnitudes of global warming.[189] All regions are at risk of experiencing negative impacts,[190] with low-latitude, less developed areas facing the greatest risk.[191] Economic growth (measured in GDP growth) of poorer countries is much more impaired with projected future climate warming than more developed countries.[192][193]\n",
      "In small islands and mega deltas, inundation as a result of sea level rise is expected to threaten vital infrastructure and human settlements.[194][195] This could lead to issues of homelessness in countries with low-lying areas such as Bangladesh, as well as statelessness for populations in countries such as the Maldives and Tuvalu.[196] Climate change can be an important driver of migration, both within and between countries.[197][198]\n",
      "A 2014 meta-analysis concluded rise violence increases by up to 20% for each degree of warming, which includes fist fights, violent crimes, civil unrest, or wars.[199][200][201][202] The violent herder–farmer conflicts in Nigeria, Sudan and other countries in the Sahel region have been exacerbated by climate change.[203][204]\n",
      "Crop production will probably be negatively affected in low latitude countries, while effects at northern latitudes may be positive or negative.[205] Global warming of around 4.6 °C relative to pre-industrial levels could pose a large risk to global and regional food security.[206] The impact of climate change on crop productivity for the four major crops was negative for wheat and maize, and neutral for soy and rice, in the years 1960–2013.[207] See also Climate change and agriculture.\n",
      "Generally impacts on public health will be more negative than positive.[208][209][210] Impacts include: the effects of extreme weather, leading to injury and loss of life;[211] and indirect effects, such as undernutrition brought on by crop failures.[209][210][212] There has been a shift from cold- to heat-related mortality in some regions as a result of warming.[213] Temperature rise has been connected to increased numbers of suicides.[214]\n",
      "Regional impacts of climate change are now observable at more locations than before, on all continents and across ocean regions.[213] The Arctic, Africa, small islands and Asian megadeltas are regions that are likely to be especially affected by future climate change.[215]\n",
      "Africa is one of the most vulnerable continents to climate variability and change because of multiple existing stresses and low adaptive capacity.[216] Existing stresses include poverty, political conflicts, and ecosystem degradation. By 2050, between 350 million and 600 million people are projected to experience increased water stress due to climate change (see Climate change in Africa).[216] Climate variability and change is projected to severely compromise agricultural production, including access to food, across Africa.[216] Research projects that regions may even become uninhabitable, with humidity and temperature reaching levels too high for humans to survive.[217]\n",
      "Livelihoods of indigenous peoples of the Arctic have been altered by climate change, and there is emerging evidence of climate change impacts on livelihoods of indigenous peoples in other regions. Polar bears enter inhabited areas more than in the past, owing to climate change. Global warming reduces sea-ice and forces bears to visit land in search of food.[218][219]\n",
      "Mitigation of and adaptation to climate change are two complementary responses to global warming. Successful adaptation is easier in the case of substantial emission reduction.[220] Many of the countries that contributed least to global greenhouse gas emissions, are most vulnerable to climate change, which raises questions about justice and fairness with regard to mitigation and adaptation.[220]\n",
      "Mitigation of climate change is the reduction of greenhouse gas emissions, or the enhancement of the capacity of carbon sinks to absorb greenhouse gases from the atmosphere.[222] There is a large potential for future reductions in emissions by a combination of activities, including energy conservation and increased energy efficiency; the use of low-carbon energy technologies, such as renewable energy, nuclear energy, and carbon capture and storage;[223][224] decarbonizing buildings and transport; and enhancing carbon sinks through, for example, reforestation and preventing deforestation.[223][224]\n",
      "A 2015 report by Citibank concluded that transitioning to a low carbon economy would yield positive return on investments.[225]\n",
      "Near- and long-term trends in the global energy system are inconsistent with limiting global warming at below 1.5 or 2 °C, relative to pre-industrial levels.[226][227] Current pledges made as part of the Paris Agreement would lead to about 3.0 °C of warming at the end of the 21st century, relative to pre-industrial levels.[228] In limiting warming at below 2 °C, more stringent emission reductions in the near-term would allow for less rapid reductions after 2030,[229] and be cheaper overall.[230] Many integrated models are unable to meet the 2 °C target if pessimistic assumptions are made about the availability of mitigation technologies.[231]\n",
      "Climate change mitigation has co - benefits. For example biking reduce greenhouse gas emissions[232] while reducing the effects of Sedentary lifestyle at the same time[233] The development and scaling-up of clean technology, such as cement that produces less CO2.[234]  is critical to achieve sufficient emission reductions for the Paris agreement goals.[235]\n",
      "Mitigation at an individual level is also possible. The most significant action individuals could make to mitigate their own carbon footprint is to have fewer children, followed by living vehicle-free, forgoing air travel, and adopting a plant-based diet.[236]\n",
      "Climate change adaptation is the process of adjusting to actual or expected climate change and its effects.[237] Humans can strive to moderate or avoid harm due to climate change and exploit  opportunities.[237] Examples of adaptation are improved coast-line protection, better disaster management and the development of crops that are more resistant.[238] The adaptation may be planned, either in reaction to or anticipation of global warming, or spontaneous, i.e., without government intervention.[239]\n",
      "The public section, private sector and communities are all gaining experience with adaptation and adaptation is becoming embedded within certain planning processes.[240]  While some adaptation responses call for trade-offs, others bring synergies and co-benefits.[240]  Environmental organizations and public figures have emphasized changes in the climate and the risks they entail, while promoting adaptation to changes in infrastructural needs and emissions reductions.[241]\n",
      "Adaptation is especially important in developing countries since those countries are predicted to bear the brunt of the effects of global warming.[242] That is, the capacity and potential for humans to adapt (called adaptive capacity) is unevenly distributed across different regions and populations, and developing countries generally have less capacity to adapt.[243]\n",
      "Climate engineering (sometimes called geoengineering or climate intervention) is the deliberate modification of the climate. It has been investigated as a possible response to global warming, e.g. by NASA[244] and the Royal Society.[245] Techniques under research fall generally into the categories solar radiation management and carbon dioxide removal, although various other schemes have been suggested. A study from 2014 investigated the most common climate engineering methods and concluded they are either ineffective or have potentially severe side effects and cannot be stopped without causing rapid climate change.[246]\n",
      "Most countries in the world are parties to the United Nations Framework Convention on Climate Change (UNFCCC).[249]\n",
      "The ultimate objective of the Convention is to prevent dangerous human interference of the climate system.[250]\n",
      "As stated in the Convention, this requires that greenhouse gas concentrations are stabilized in the atmosphere at a level where ecosystems can adapt naturally to climate change, food production is not threatened, and economic development can proceed in a sustainable fashion.[251] The Framework Convention was agreed on in 1992, but global emissions have risen since then.[252]\n",
      "During negotiations, the G77 (a lobbying group in the United Nations representing developing countries)[253]:4 pushed for a mandate requiring developed countries to \"[take] the lead\" in reducing their emissions.[254] This was justified on the basis that the developed countries' emissions had contributed most to the cumulation of greenhouse gases in the atmosphere, per-capita emissions (i.e., emissions per head of population) were still relatively low in developing countries, and the emissions of developing countries would grow to meet their development needs.[87]:290\n",
      "This mandate was sustained in the Kyoto Protocol to the Framework Convention,[87]:290 which entered into legal effect in 2005.[255] In ratifying the Kyoto Protocol, most developed countries accepted legally binding commitments to limit their emissions. These first-round commitments expired in 2012.[255]\n",
      "United States President George W. Bush rejected the treaty on the basis that \"it exempts 80% of the world, including major population centres such as China and India, from compliance, and would cause serious harm to the US economy.\"[253]:5\n",
      "In 2009 several UNFCCC Parties produced the Copenhagen Accord,[256][257], which has been widely portrayed as disappointed because of its low goals, leading poor nation to reject it.[258][259] Parties associated with the Accord aim to limit the future increase in global mean temperature to below 7002275149999999999♠2 °C.[260] In 2015 a binding agreement was negotiated in Paris with all UN countries with the aim to keep climate change well below 7002275149999999999♠2 °C. The agreement replaces the Kyoto protocol. Unlike Kyoto, no binding emission targets are set in the Paris agreement. Instead, the procedure of uniformly setting ever more ambitious goals and reevaluating these goals every five years has been made binding.[261][262] The Paris agreement reiterated that developing countries must be financially supported.[261]\n",
      "The discussion continues in scientific articles that are peer-reviewed and assessed by scientists who\n",
      "work in the relevant fields and participate in the Intergovernmental Panel on Climate Change. The scientific consensus as of 2013[update] stated in the IPCC Fifth Assessment Report is that it \"is extremely likely that human influence has been the dominant cause of the observed warming since the mid-20th century\".[263]\n",
      "A 2008 report by the U.S. National Academy of Sciences stated that most scientists by then agreed that observed warming in recent decades was primarily caused by human activities increasing the amount of greenhouse gases in the atmosphere.[84] In 2005 the Royal Society stated that while the overwhelming majority of scientists were in agreement on the main points, some individuals and organizations opposed to the consensus on urgent action needed to reduce greenhouse gas emissions had tried to undermine the science and work of the IPCC.[264] National science academies have called on world leaders for policies to cut global emissions.[265]\n",
      "In 2018 the IPCC published a Special Report on Global Warming of 1.5ºC which warned that, if the current rate of greenhouse gas emissions is not mitigated, global warming is likely to reach 1.5°C (2.7 °F) between 2030 and 2052 causing major crises. The report said that preventing such crises will require a swift transformation of the global economy that has \"no documented historic precedent.\"[266]\n",
      "In the scientific literature, there is a strong consensus that global surface temperatures have increased in recent decades and that the trend is caused mainly by human-induced emissions of greenhouse gases.[267] No scientific body of national or international standing disagrees with this view.[268][269] In November 2017, a second warning to humanity signed by 15,364 scientists from 184 countries stated that \"the current trajectory of potentially catastrophic climate change due to rising greenhouse gases from burning fossil fuels, deforestation, and agricultural production – particularly from farming ruminants for meat consumption\" is \"especially troubling\".[270]\n",
      "The global warming controversy refers to a variety of disputes, substantially more pronounced in the popular media than in the scientific literature,[271][272] regarding the nature, causes, and consequences of global warming. The disputed issues include the causes of increased global average air temperature, especially since the mid-20th century, whether this warming trend is unprecedented or within normal climatic variations, whether humankind has contributed significantly to it, and whether the increase is completely or partially an artifact of poor measurements. Additional disputes concern estimates of climate sensitivity, predictions of additional warming, and what the consequences of global warming will be.\n",
      "From about 1990 onward, American conservative think tanks had begun challenging the legitimacy of global warming as a social problem. They challenged the scientific evidence, argued that global warming would have benefits, and asserted that proposed solutions would do more harm than good.[273] Organizations such as the libertarian Competitive Enterprise Institute, conservative commentators, and some companies such as ExxonMobil have challenged IPCC climate change scenarios, funded scientists who disagree with the scientific consensus, and provided their own projections of the economic cost of stricter controls.[274][275][276][277] On the other hand, some fossil fuel companies have scaled back their efforts in recent years,[278] or even called for policies to reduce global warming.[279] Global oil companies have begun to acknowledge climate change exists and is caused by human activities and the burning of fossil fuels.[280]\n",
      "The global warming problem came to international public attention in the late 1980s and polling groups began to track opinions on the subject.[281] The longest consistent polling, by Gallup in the US, found relatively small deviations of 10% or so from 1998 to 2015 in opinion on the seriousness of global warming, but with increasing polarization between those concerned and those unconcerned.[282] By 2010 in the US, just a little over half the population (53%) viewed it as a serious concern for either themselves or their families. Latin America and developed Asia saw themselves most at risk at 73% and 74%.[283] In the assessed 111 countries, people were more likely to attribute global warming to human activities than to natural causes, except in the US where nearly half (47%) of the population attributed global warming to natural causes.[284] A 2013 survey by Pew Research Center polled 39 countries about global threats. According to 54% of those questioned, global warming featured top of the perceived global threats.[285]\n",
      "Due to confusing media coverage in the early 1990s, issues such as ozone depletion and climate change were often mixed up, affecting public understanding of these issues.[286] According to a 2010 survey of Americans, a majority thought that the ozone layer and spray cans contribute to global warming.[287] Although there are a few areas of linkage, the relationship between the two is not strong. Reduced stratospheric ozone has had a slight cooling influence on surface temperatures, while increased tropospheric ozone has had a somewhat larger warming effect.[288] However, chemicals causing ozone depletion are also powerful greenhouse gases, and as such the Montreal protocol against their emissions may have done more than any other measure to mitigate climate change.[289]\n",
      "In a response to perceived inaction on climate change, a climate movement has been engaged in different forms of protest, such as the fossil fuel divestment movement[290], various marches around the world[291] and the school strike for climate.[292]\n",
      "The history of climate change science began in the early 19th century when ice ages and other natural changes in paleoclimate were first suspected and the natural greenhouse effect first identified.[293] In the late 19th century, scientists first argued that human emissions of greenhouse gases could change the climate. In the 1960s, the warming effect of carbon dioxide gas became increasingly convincing.[294] By the 1990s, as a result of improving fidelity of computer models and observational work confirming the Milankovitch theory of the ice ages, a consensus position formed: greenhouse gases were deeply involved in most climate changes, and human-caused emissions were bringing discernible global warming. Since the 1990s, scientific research on climate change has included multiple disciplines and has expanded.[295] Research during this period is summarized in the Assessment Reports by the Intergovernmental Panel on Climate Change.\n",
      "The greenhouse effect was proposed by Joseph Fourier in 1824, discovered in 1860 by John Tyndall,[296] first investigated quantitatively by Svante Arrhenius in 1896,[293] and the hypothesis was reported in the popular press as early as 1912.[297][298] The scientific description of global warming was further developed in the 1930s through the 1960s by Guy Stewart Callendar.[299][300]\n",
      "Research in the 1950s suggested increasing temperatures, and a 1952 newspaper reported \"climate change\". This phrase next appeared in a November 1957 report in The Hammond Times which described Roger Revelle's research into the effects of increasing human-caused CO2 emissions on the greenhouse effect, \"a large scale global warming, with radical climate changes may result.\" Both phrases were used only occasionally until 1975, when Wallace Smith Broecker published a scientific paper on the topic, \"Climatic Change: Are We on the Brink of a Pronounced Global Warming?\" The phrase began to come into common use, and in 1976 Mikhail Budyko's statement that \"a global warming up has started\" was widely reported.[294] Other studies, such as a 1971 MIT report, referred to the human impact as \"inadvertent climate modification\", but an influential 1979 National Academy of Sciences study headed by Jule Charney followed Broecker in using global warming to refer to rising surface temperatures, while describing the wider effects of increased CO2 as climate change.[301]\n",
      "In 1986 and November 1987, NASA climate scientist James Hansen gave testimony to Congress on global warming. There were increasing heatwaves and drought problems in the summer of 1988, and when Hansen testified in the Senate on 23 June he sparked worldwide interest.[295] He said \"global warming has reached a level such that we can ascribe with a high degree of confidence a cause and effect relationship between the greenhouse effect and the observed warming.\"[302] Public attention increased over the summer, and global warming became the dominant popular term, commonly used both by the press and in public discourse.[301]\n",
      "In a 2008 NASA article on usage, Erik M. Conway defined global warming as \"the increase in Earth's average surface temperature due to rising levels of greenhouse gases\", while climate change was \"a long-term change in the Earth's climate, or of a region on Earth\". Because effects such as changing patterns of rainfall and rising sea levels would probably have more impact than temperatures alone, he considered global climate change a more scientifically accurate term, and like the Intergovernmental Panel on Climate Change, the NASA website emphasized this wider context.[301]\n",
      "\n",
      "\n"
     ]
    }
   ],
   "source": [
    "# Fetching the data\n",
    "text = \"\"\n",
    "for paragraph in soup.find_all('p'):\n",
    "    text += paragraph.text\n",
    "print(text)"
   ]
  },
  {
   "cell_type": "code",
   "execution_count": 18,
   "metadata": {},
   "outputs": [],
   "source": [
    "# Preprocessing the data\n",
    "text = re.sub(r'\\[[0-9]*\\]',' ',text)\n",
    "text = re.sub(r'\\s+',' ',text)\n",
    "text = text.lower()\n",
    "text = re.sub(r'\\d',' ',text)\n",
    "text = re.sub(r'\\s+',' ',text)"
   ]
  },
  {
   "cell_type": "code",
   "execution_count": 7,
   "metadata": {},
   "outputs": [],
   "source": [
    "# Preparing the dataset\n",
    "sentences = nltk.sent_tokenize(text)\n",
    "sentences = [nltk.word_tokenize(sentence) for sentence in sentences]\n",
    "for i in range(len(sentences)):\n",
    "    sentences[i] = [word for word in sentences[i] if word not in stopwords.words('english')]"
   ]
  },
  {
   "cell_type": "code",
   "execution_count": 17,
   "metadata": {},
   "outputs": [],
   "source": [
    "# Training the Word2Vec model\n",
    "model = Word2Vec(sentences, min_count=1)\n",
    "words = model.wv.vocab"
   ]
  },
  {
   "cell_type": "code",
   "execution_count": 13,
   "metadata": {},
   "outputs": [
    {
     "name": "stdout",
     "output_type": "stream",
     "text": [
      "[-4.3122373e-03 -2.8815614e-03 -2.1581876e-03 -4.1148029e-03\n",
      "  1.9122559e-03  7.0955399e-03  1.9526575e-04  1.8817999e-03\n",
      " -4.4659642e-03  1.1898862e-04  3.6116046e-04  7.6472759e-03\n",
      " -2.6178854e-03  4.6040039e-03  4.5296550e-04 -3.3481477e-03\n",
      "  1.5070175e-03  5.6465953e-03  3.1998702e-03 -6.3485773e-03\n",
      " -1.9387883e-03 -5.1109861e-03 -4.3830806e-03  1.8302571e-03\n",
      "  1.4172412e-03  1.5305645e-03 -1.0127430e-03  9.3512451e-03\n",
      "  3.9218697e-03 -1.1315180e-03  3.0000071e-04  4.2084763e-03\n",
      " -5.0291973e-03  4.4921634e-04 -1.8867985e-03 -9.9855578e-03\n",
      " -5.7377443e-03  5.4526865e-03 -6.1768382e-03  8.0371631e-04\n",
      "  1.1264235e-03  3.1656655e-04  2.1575135e-03  1.5211761e-03\n",
      " -3.9086626e-03 -4.8971660e-03 -2.9183268e-03  2.7626957e-04\n",
      "  2.0253313e-04  1.8828643e-04 -4.2751417e-03 -4.5257038e-03\n",
      " -1.6768532e-03 -3.5604520e-03 -5.8400272e-03 -1.3868057e-06\n",
      "  7.1069406e-04  1.0042811e-03  2.5474282e-03  1.9272552e-03\n",
      " -6.3142763e-03 -4.8398990e-03  3.6036845e-03 -5.0723800e-03\n",
      " -3.0968704e-03 -5.6589674e-03  6.8970775e-04  5.9550931e-03\n",
      "  5.1835971e-03 -1.9349593e-03 -7.3400768e-03  1.3488975e-03\n",
      "  1.6831742e-03  2.9469002e-03 -1.9634829e-03 -3.0609430e-03\n",
      "  2.1261015e-04  1.9316359e-03  1.7427715e-03  1.6759464e-03\n",
      " -4.9306597e-03  6.7616706e-03 -2.7706164e-03  1.8119565e-03\n",
      " -1.0045415e-03 -6.8616477e-04  2.0419555e-03  3.0126579e-03\n",
      "  3.6460308e-03  2.9714943e-03  1.2742413e-03  4.9533723e-03\n",
      " -5.7573281e-03 -1.3376587e-03  2.9458175e-03  1.5155647e-03\n",
      " -1.5504421e-03 -1.3405085e-03  1.0449005e-03 -1.4015358e-03]\n"
     ]
    }
   ],
   "source": [
    "# Finding Word Vectors\n",
    "vector = model.wv['global']\n",
    "print(vector)"
   ]
  },
  {
   "cell_type": "code",
   "execution_count": 12,
   "metadata": {},
   "outputs": [
    {
     "name": "stdout",
     "output_type": "stream",
     "text": [
      "[(',', 0.5157358050346375), ('countries', 0.45364153385162354), (\"'s\", 0.44264549016952515), ('energy', 0.4156596064567566), ('gases', 0.41398513317108154), ('greenhouse', 0.4055003523826599), ('fossil', 0.4053449034690857), ('climate', 0.39920637011528015), ('carbon', 0.3872188329696655), ('report', 0.3856266140937805)]\n"
     ]
    }
   ],
   "source": [
    "# Most similar words\n",
    "similar = model.wv.most_similar('global')\n",
    "print(similar)"
   ]
  },
  {
   "cell_type": "code",
   "execution_count": null,
   "metadata": {},
   "outputs": [],
   "source": []
  }
 ],
 "metadata": {
  "kernelspec": {
   "display_name": "Python 3",
   "language": "python",
   "name": "python3"
  },
  "language_info": {
   "codemirror_mode": {
    "name": "ipython",
    "version": 3
   },
   "file_extension": ".py",
   "mimetype": "text/x-python",
   "name": "python",
   "nbconvert_exporter": "python",
   "pygments_lexer": "ipython3",
   "version": "3.7.2"
  }
 },
 "nbformat": 4,
 "nbformat_minor": 2
}
