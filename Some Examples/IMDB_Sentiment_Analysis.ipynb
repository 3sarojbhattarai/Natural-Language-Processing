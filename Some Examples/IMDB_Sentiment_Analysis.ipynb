{
 "cells": [
  {
   "cell_type": "markdown",
   "metadata": {},
   "source": [
    "# Sentiment Analysis using TF-IDF model and Linear SVC"
   ]
  },
  {
   "cell_type": "markdown",
   "metadata": {},
   "source": [
    "**Data:**\n",
    "\n",
    "50000 movie reviews from IMDB has been used in this model,\n",
    "out of which 40000 reviews have been used to train and rest of the\n",
    "10000 reviews have been used to test the model performance. \n",
    "\n",
    "\n",
    "**Preprocessing:**\n",
    "\n",
    "Preprocessing stage consists of removing non-character symbols, \n",
    "adding 'not_' before the word where there's an occurence of 'not' etc.\n",
    "The preprocessed data is stored in corpus.\n",
    "\n",
    "\n",
    "**Model:**\n",
    "\n",
    "Here I have used TfidfVectorizer from sklearn.feature_extraction.text\n",
    "library which works similarly to CounterVectorizer followed by\n",
    "TfidfTransformer. Due to this we can assign different weights to words,\n",
    "and all words are not given the same importance. \n",
    "\n",
    "**Machine Learning:**\n",
    "\n",
    "There are 2000 features used in this model and because of that\n",
    "LinearSVC works the best for predicting sentiments with a accuracy of\n",
    "89.80%. This model is also tested with other learning algorithms like\n",
    "MultinomialNB, RandomForest with 500 estimators and LinearSVC out-performs\n",
    "all of them. \n",
    "\n",
    "**Cross Validation:**\n",
    "\n",
    "We have used 10 fold cross validation on this model to determine the\n",
    "accuracy of the model on different datasets and we get a mean of 89.80%\n",
    "from all the 10 results."
   ]
  },
  {
   "cell_type": "code",
   "execution_count": 1,
   "metadata": {},
   "outputs": [
    {
     "name": "stdout",
     "output_type": "stream",
     "text": [
      "[nltk_data] Downloading package stopwords to\n",
      "[nltk_data]     /home/thevirusx3/nltk_data...\n",
      "[nltk_data]   Package stopwords is already up-to-date!\n"
     ]
    },
    {
     "data": {
      "text/plain": [
       "True"
      ]
     },
     "execution_count": 1,
     "metadata": {},
     "output_type": "execute_result"
    }
   ],
   "source": [
    "# Importing the libraries\n",
    "import numpy as np\n",
    "import re\n",
    "import pickle \n",
    "import nltk\n",
    "from nltk.corpus import stopwords\n",
    "nltk.download('stopwords')"
   ]
  },
  {
   "cell_type": "code",
   "execution_count": null,
   "metadata": {},
   "outputs": [],
   "source": []
  }
 ],
 "metadata": {
  "kernelspec": {
   "display_name": "Python 3",
   "language": "python",
   "name": "python3"
  },
  "language_info": {
   "codemirror_mode": {
    "name": "ipython",
    "version": 3
   },
   "file_extension": ".py",
   "mimetype": "text/x-python",
   "name": "python",
   "nbconvert_exporter": "python",
   "pygments_lexer": "ipython3",
   "version": "3.7.2"
  }
 },
 "nbformat": 4,
 "nbformat_minor": 2
}
