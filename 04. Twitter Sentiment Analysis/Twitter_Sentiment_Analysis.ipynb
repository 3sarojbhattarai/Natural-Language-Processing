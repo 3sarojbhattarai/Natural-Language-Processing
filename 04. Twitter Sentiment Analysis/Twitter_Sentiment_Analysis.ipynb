{
 "cells": [
  {
   "cell_type": "markdown",
   "metadata": {},
   "source": [
    "# Twitter Sentiment Analysis using NLP"
   ]
  },
  {
   "cell_type": "code",
   "execution_count": 1,
   "metadata": {},
   "outputs": [],
   "source": [
    "# Importing the libraries\n",
    "import tweepy\n",
    "import re\n",
    "import pickle\n",
    "import matplotlib.pyplot as plt\n",
    "from tweepy import OAuthHandler"
   ]
  },
  {
   "cell_type": "code",
   "execution_count": 13,
   "metadata": {},
   "outputs": [],
   "source": [
    "# Please change with your own consumer key, consumer secret, access token and access secret\n",
    "# Initializing the keys\n",
    "# Twitter Credentials\n",
    "consumer_key = \"Your Consumer Key\"\n",
    "consumer_secret = \"Your secret Key\"\n",
    "access_token = \"Your Access Token\"\n",
    "access_token_secret = \"Your Acess Token Secret\" "
   ]
  },
  {
   "cell_type": "code",
   "execution_count": 4,
   "metadata": {},
   "outputs": [],
   "source": [
    "# Initializing the tokens\n",
    "auth = OAuthHandler(consumer_key, consumer_secret)\n",
    "auth.set_access_token(access_token, access_token_secret)\n",
    "args = ['Barcelona'];\n",
    "api = tweepy.API(auth,timeout=10)"
   ]
  },
  {
   "cell_type": "code",
   "execution_count": 5,
   "metadata": {},
   "outputs": [],
   "source": [
    "# Fetching the tweets\n",
    "list_tweets = []\n",
    "query = args[0]\n",
    "if len(args) == 1:\n",
    "    for status in tweepy.Cursor(api.search,q=query+\" -filter:retweets\",lang='en',result_type='recent',geocode=\"22.1568,89.4332,500km\").items(100):\n",
    "        list_tweets.append(status.text)"
   ]
  },
  {
   "cell_type": "code",
   "execution_count": 6,
   "metadata": {},
   "outputs": [
    {
     "name": "stdout",
     "output_type": "stream",
     "text": [
      "['I Love FC Barcelona 😘😘 https://t.co/aG3pvnrIwC', \"So Liverpool play Barcelona in the Semi Finals and predictions are fun. Let's do this.\\nFirst leg : Liverpool 2:1 Ba… https://t.co/8MAKlvPz6J\", \"@ChampionsLeague Barcelona vs Ajax..Would be a great match to watch.Because Ajax's play style have been similar to old Barca's.\", 'Barcelona against weekend Champions League games: Bartomeu | 2019-04-19 | https://t.co/990q9EamvZ https://t.co/CABhO2PUod', \"@DaveOCKOP Are Barcelona that stupid... Even after that kind of performance they didn't sign van dijk...\", '@RafaelNadal Sir this year you will win your 12th edition of French open , Barcelona open and Monte Carlo masters .#Vamos', '@ChampionsLeague \\nI like Liverpool again I love Barcelona...\\nIn this match I am supporting both..', '@BajrangbaliBha1 @akshaypasu Ah! All I can say is that doing quadruple is something very difficult task, now City c… https://t.co/8iV0jbZoNW', 'Are all Barcelona fans by born Dumb? https://t.co/ZcAXWraQvf', '@stighefootball FC Barcelona\\nChelsea\\nMan City\\nDortmund\\nNo idea\\nAjax\\nNo idea', \"Let's think about Barcelona later. Full focus should be on Cardiff now\", 'i think Barcelona will win this match https://t.co/EEFd2nZ7F2', 'As I said Liverpool vs Barcelona match doesn’t carry any more value to us unless we know what’s going to happen in… https://t.co/kyDy4WdAMu', 'I think I need to start supporting Barcelona... https://t.co/U70ZQO3E2m', 'Champions League quarter-final second leg: Barcelona beat Manchester United in semis Barcelona to beat Manchester 4… https://t.co/wxEl36C9uD', 'Photoshop expert, background removal, photo editing  https://t.co/bt1D28tnLX     \\n#Tottenham #Spurs #Sterling #Lisa… https://t.co/8H9TSsmmUj', '🙄We will defeat Barcelona https://t.co/XwwfJEEn1v', 'But Pep walks the walk. He took over Barcelona at a time when football in general was becoming a mundane affair. Te… https://t.co/Ne3tz5Axz9', 'Liverpool and Tottenham Hotspur enter sem fininal of Champions League 2019 | 57 years later Tottenham reached the s… https://t.co/BFHDTv4GJL', 'Tottenham and Barcelona to Host First Legs of Champions League\\xa0Semi-Finals https://t.co/JeeyB43dX0 https://t.co/hvozqWwGpW', 'Tottenham and Barcelona to Host First Legs of Champions League\\xa0Semi-Finals https://t.co/g82qWTsx0o https://t.co/gdd8p3SzoE', \"@RafaelH117 Same reason why people like you celebrate Juventus getting eliminated, even though there's no rivalry b… https://t.co/S4ThJIP91f\", 'Excilent game win \\n#BARMUN \\nCongratulations to the Big win #Barcilona \\nBarcelona 3\\nManchester United 0 https://t.co/qWb9VjEItp', 'Liverpool seal semi-final date with Barcelona after strolling past Porto Liverpool now march on to a clash with Lio… https://t.co/SBL5mwDP4x', '@AFCAjax @ChampionsLeague Well, We (Barcelona) will love to beat you at final', '@FCBarcelona Out of all the four teams remaining in the competition, Barcelona have the best defensive record. Goal… https://t.co/1V18laikXa', 'To whom did Barcelona lost CL match at Camp Nou?', 'I will do B2B lead generation.\\nI will assist you to generate outstanding value creation to be more competitive.\\nCon… https://t.co/iUNFbSd865', '@ChampionsLeague 😂😂😂😂😂😂liverpool beat barca &amp; again Barcelona will not win champions league title.', '@joefooty Though i am very happy that Tottenham is through to semifinals, but the away goal rule should be scrapped… https://t.co/HkC3UoFEML', 'Barcelona:A love untold🎥', 'Dates confirmed by UEFA for #LFC’s Champions League semi-final against Barcelona. \\n\\nAway leg Wed 1st May\\n\\nHome leg Tues 7th May', '#Sports | #Football #UCL \\n#InDepth | UEFA Champions League: Spurs, Liverpool join Barcelona &amp; Ajax in semis – News… https://t.co/SqyTCQFg3M', 'Now onto Barcelona vs Liverpool. Hurts me to say this, but Liverpool getting past Barca with ease is a great possib… https://t.co/tIOMKKeMdo', \"We know how to beat Barcelona at Camp Nou. Last time it was Torres, this time it'll be Bobby.\", 'Barcelona reach semis with Messi exhibition against Manchester United https://t.co/Fijg9gvQvC', 'Wow. Really great chance now for Liverpool to win the double, League and the Champions League. City are now exhaust… https://t.co/czWyaQnaPn', 'Juergen Klopp Can’t Wait for Liverpool’s ‘Proper Football’ Showdown With\\xa0Barcelona https://t.co/yz49PR2sIn https://t.co/ZHNMAoh953', 'Juergen Klopp Can’t Wait for Liverpool’s ‘Proper Football’ Showdown With\\xa0Barcelona https://t.co/qi8OxGT855 https://t.co/gC1Uk7C58H', 'for fuck sake Spurs are not going to win the UCL right !!\\nIm okey with Liverpool. they can bear the fuck of barcelona bainchods', \"@gunner_x49 Like what the fucking fuck. I don't care what City are, they play eleven players and they spend money o… https://t.co/iZn5YLXEPO\", '👍 on @YouTube: 2019 UCL semifinals preview: Barcelona vs. Liverpool, Ajax vs. Tottenham | Champions League https://t.co/x3pruShM0u', 'A Genius in Full Bloom, Lionel Messi Lifts\\xa0Barcelona https://t.co/QfHQGYcQ8Y https://t.co/2nHRFmwFIZ', '\"A Genius in Full Bloom, Lionel Messi Lifts Barcelona\" by RORY SMITH via NYT https://t.co/ULtwN0MZYx', '\"A Genius in Full Bloom, Lionel Messi Lifts Barcelona\" by RORY SMITH https://t.co/iJeQmweReU', 'Barcelona vs Liverpool in semifinal?  \\n\\nThe way liverpool is playing from last two seasons \\nsurely this gonna be th… https://t.co/96jYhS9JUY', \"@Fannioktaviani1 I'm Barcelona fan too😃 that's great!\", \"@AFCAjax @ChampionsLeague I'm a Barcelona fan but I won't feel sad if you guys beat us in the final to take the trophy home ❤️❤️\", '@FCBarcelona @ChampionsLeague No team stands any chance, if Barcelona + Messi is the Opponent💪💪 https://t.co/o30yJtcsi9', \"It's gonna be interesting to watch @FCBarcelona and @LFC on the field. Both teams are very good. And I think a migh… https://t.co/arOytUCDhn\", 'Champions League quarter-final second leg: Barcelona beat Manchester United in semis Manchester United beat 4-0 to… https://t.co/Mglb86u5Hx', 'Seeing Chelsea fans backing Barcelona in the UCL in the timeline.\\n\\nUtterly disgusting and repulsive. Immediately un… https://t.co/JivuVuWPCl', 'Ajax\\nBarcelona 😘\\nLiverpool \\nTottenham \\n\\nSemi finalist of 2018-19 season. \\nHard Luck Manchester City 😢\\n#UCL', 'Congratulations #Barcelona for winning the #UCL 2019!', '@markgoldbridge No team won the ucl without money xcept for Barcelona. Only barca won it with philosophy, style of… https://t.co/A63GFZemhJ', '@D_DeGea @ManUtd The ladies would have done a better job against Barcelona last night. Good to see at least some fr… https://t.co/2hx2JrDWcz', \"@cindy_lfc @LFC We don't need him, I think he is a Barcelona fan\", 'wallcame to\\n💫 THE FINAL FOUR 💫\\n\\n🇳🇱 Ajax \\n🇪🇸 Barcelona \\n🏴\\U000e0067\\U000e0062\\U000e0065\\U000e006e\\U000e0067\\U000e007f Liverpool \\n🏴\\U000e0067\\U000e0062\\U000e0065\\U000e006e\\U000e0067\\U000e007f Tottenham', 'I understand Barcelona supporters are very happy about this.\\nI guess they are fully able to lift this trophy.\\nSo I… https://t.co/PBaUw0vrRS', \"@CelticShady @markgoldbridge Humanity will lose the day Liverpool win the league let alone CL..it'll be horror..hop… https://t.co/KE5l2LUUY8\", 'Yes captain another masterclass coming aganist barcelona https://t.co/cK8VHBERVF', 'I honesty wish we make it to Madrid but we are surely heading to Barcelona 😂', \"Ajax, Barcelona, Tottenham, Liverpool.\\nPure and sheer quality and love for football, that's what left. That's how i… https://t.co/Zf31TYd2zF\", \"United lost to Barcelona cool....\\n but mehn you got KO'd to a Spurs team you've out spent every Window in TW since… https://t.co/iFKPTgMuiU\", \"@SambaRole Scared of the away game after today's shithousery. We won't get away with such performance against Barcelona.\", 'For me, Pep will always be the best irrespective of results. When I got really fed up by nonsense football all arou… https://t.co/VQjBiB3sY7', '@ChampionsLeague @AFCAjax @FCBarcelona @LFC @SpursOfficial Barcelona are winning it', \"@aasiferdous Barcelona won't beat Liverpool. 😁\", 'Ajax vs Barcelona \\n\\nSuck your mum if u don’t like my opinion', \"Barcelona. A team I've admired for years. Messi. My all time favourite sportsperson. It's going to be an incredibly… https://t.co/oYPa916Tgm\", 'Barcelona next #YNWA', 'Ajax will run all over Tottenham. So, we have Barcelona vs Ajax in the final of CL. Interesting.', '3 from front 3 💖\\n\\nBarcelona, here we come!', 'Henderson assist. Bobby goal. Holy trinity on target. Bring on Barcelona.', 'Guardiola thought Tottenham will be an easy opponent! \\nLiverpool, my classic love; how will I decide at semi final… https://t.co/Roum7G4ckv', 'Mo Salah confirming the UCL Semi-Final spot! 2-0!\\n\\nBack to back UCL Semi-Final appearances for the first since 2008… https://t.co/nY73lMefNZ', 'Barcelona vs Liverpool is gonna end in a conformable Liverpool victory unless Leo plays a blinder', '@Rahulero You have watched 2010-12 Barcelona.', '@Squawka Zlatan won it with Barcelona', 'Photoshop expert, background removal, photo editing  https://t.co/bt1D28tnLX    \\n#NotreDameFire #Avengers #Lisa… https://t.co/2qtOCGekKZ', \"@empireofthekop AS? A Barcelona paper? I don't get this!\", '@Fannioktaviani1 Nice...you are a Barcelona fan?', 'Are you looking graphic T shirt design? contact with my sister.\\n\\ncontact: https://t.co/zkEnJAxdPI \\n\\nAjax Brexit Lon… https://t.co/mKVp2Nia0v', 'HI\\nR you t shirt graphic t shirt. i can complete your job very low cost.\\nsee my some work: https://t.co/SOqERRx9Sp… https://t.co/aTy1dq5RJw', 'Are you looking graphic T shirt design? contact with my sister.\\n\\ncontact: https://t.co/zkEnJAxdPI\\n\\nAjax Brexit Lond… https://t.co/lef6pkvP58', '@ESPNcricinfo Barcelona without Messi', 'Are you looking graphic T shirt design? contact with my sister.\\n\\ncontact: https://t.co/28Qfpcnddm\\n\\nAjax Brexit Lond… https://t.co/a1oTa4vcLf', 'Frenkie de Jong already became a Barca hero.\\n\\n#UCL #Barcelona #Ajax #Juventus #Ronaldo #FrenkiedeJong #fcb… https://t.co/rGd6taMT6O', 'Which team do you want to go to semi final?\\n\\n(If Porto wins, then remember...it will be kinda easy for Barcelona to… https://t.co/wjI6yCBhVo', \"@browny0508 @TheManUtdWay We lost to a prime Barcelona pretty sure the United team of 2011 would've done double over this Barcelona side.\", '\"I learned a lot from Guardiola. His philosophy is sensational, what he did in Barcelona, Bayern and now with Manch… https://t.co/j5Gbd8Qbdy', 'Great Iberian Tour ! \\n\\nCovers #Barcelona #Valencia #Granada #Lisbon #Madrid\\n#Travel #Holidays #Vacation https://t.co/nvWmS0hglB', 'Barcelona set to sign De Ligt as Ajax agreement nears - sources https://t.co/ne9IocOYCe Ajax reached their first UC… https://t.co/dvzAEqlFAm', 'Barcelona fans now are a lot like RCB fans.\\nBohot dino ka wish, finally fullfilled.\\nOne went to semis, the other won a match.', \"@fpl_tactician Do you think that the night in Barcelona will affect United's performance in the PL? They are still… https://t.co/N8g4suwBMw\", \"What's your guess?\\nMy Guess Is Barcelona\\n#UCLfi #UCL #UCLdraw  #FinalFour #Barcelona #win https://t.co/ae2TssIig9\", 'Champions League: Messi Inspires Barcelona in Manchester United Demolition to Reach Semis - News18 https://t.co/BxctfZ6rxo', \"@FCBarcelona I'm best Barcelona fan.. Plz Admin \\n\\nFollowing me.. From Bangladesh\", \"Hi\\nI'm looking for #Brochure #Poster #Catalog #Magazine #BusinessProfile #AnnualReport #SalesFlyer #Design #Banner… https://t.co/MDWfJEQCtB\", \"Barcelona vs. Man United 3-0 (16_04_2019), All Goals Lionel Messi the boss (16', 20') &amp; Philippe Coutinho (61')… https://t.co/1VIIhvO23j\"]\n"
     ]
    }
   ],
   "source": [
    "print(list_tweets)"
   ]
  },
  {
   "cell_type": "code",
   "execution_count": 7,
   "metadata": {},
   "outputs": [],
   "source": [
    "# Loading the vectorizer and classfier\n",
    "with open('classifier.pickle','rb') as f:\n",
    "    classifier = pickle.load(f)\n",
    "    \n",
    "with open('tfidfmodel.pickle','rb') as f:\n",
    "    tfidf = pickle.load(f)  "
   ]
  },
  {
   "cell_type": "code",
   "execution_count": 8,
   "metadata": {},
   "outputs": [],
   "source": [
    "total_pos = 0\n",
    "total_neg = 0"
   ]
  },
  {
   "cell_type": "code",
   "execution_count": 9,
   "metadata": {},
   "outputs": [],
   "source": [
    "for tweet in list_tweets:\n",
    "    tweet = re.sub(r\"^https://t.co/[a-zA-Z0-9]*\\s\", \" \", tweet)\n",
    "    tweet = re.sub(r\"\\s+https://t.co/[a-zA-Z0-9]*\\s\", \" \", tweet)\n",
    "    tweet = re.sub(r\"\\s+https://t.co/[a-zA-Z0-9]*$\", \" \", tweet)\n",
    "    tweet = tweet.lower()\n",
    "    tweet = re.sub(r\"that's\",\"that is\",tweet)\n",
    "    tweet = re.sub(r\"there's\",\"there is\",tweet)\n",
    "    tweet = re.sub(r\"what's\",\"what is\",tweet)\n",
    "    tweet = re.sub(r\"where's\",\"where is\",tweet)\n",
    "    tweet = re.sub(r\"it's\",\"it is\",tweet)\n",
    "    tweet = re.sub(r\"who's\",\"who is\",tweet)\n",
    "    tweet = re.sub(r\"i'm\",\"i am\",tweet)\n",
    "    tweet = re.sub(r\"she's\",\"she is\",tweet)\n",
    "    tweet = re.sub(r\"he's\",\"he is\",tweet)\n",
    "    tweet = re.sub(r\"they're\",\"they are\",tweet)\n",
    "    tweet = re.sub(r\"who're\",\"who are\",tweet)\n",
    "    tweet = re.sub(r\"ain't\",\"am not\",tweet)\n",
    "    tweet = re.sub(r\"wouldn't\",\"would not\",tweet)\n",
    "    tweet = re.sub(r\"shouldn't\",\"should not\",tweet)\n",
    "    tweet = re.sub(r\"can't\",\"can not\",tweet)\n",
    "    tweet = re.sub(r\"couldn't\",\"could not\",tweet)\n",
    "    tweet = re.sub(r\"won't\",\"will not\",tweet)\n",
    "    tweet = re.sub(r\"\\W\",\" \",tweet)\n",
    "    tweet = re.sub(r\"\\d\",\" \",tweet)\n",
    "    tweet = re.sub(r\"\\s+[a-z]\\s+\",\" \",tweet)\n",
    "    tweet = re.sub(r\"\\s+[a-z]$\",\" \",tweet)\n",
    "    tweet = re.sub(r\"^[a-z]\\s+\",\" \",tweet)\n",
    "    tweet = re.sub(r\"\\s+\",\" \",tweet)\n",
    "    sent = classifier.predict(tfidf.transform([tweet]).toarray())\n",
    "    if sent[0] == 1:\n",
    "        total_pos += 1\n",
    "    else:\n",
    "        total_neg += 1"
   ]
  },
  {
   "cell_type": "code",
   "execution_count": 16,
   "metadata": {},
   "outputs": [
    {
     "data": {
      "image/png": "[encoded data removed]",
      "text/plain": [
       "<Figure size 432x288 with 1 Axes>"
      ]
     },
     "metadata": {
      "needs_background": "light"
     },
     "output_type": "display_data"
    }
   ],
   "source": [
    "# Visualizing the results\n",
    "import matplotlib.pyplot as plt\n",
    "import numpy as np\n",
    "objects = ['Positive','Negative']\n",
    "y_pos = np.arange(len(objects))\n",
    "plt.bar(y_pos,[total_pos,total_neg],alpha=0.5)\n",
    "plt.xticks(y_pos,objects)\n",
    "plt.ylabel('Number')\n",
    "plt.title('Number of Postive and Negative Tweets')\n",
    "plt.show()"
   ]
  },
  {
   "cell_type": "code",
   "execution_count": null,
   "metadata": {},
   "outputs": [],
   "source": []
  }
 ],
 "metadata": {
  "kernelspec": {
   "display_name": "Python 3",
   "language": "python",
   "name": "python3"
  },
  "language_info": {
   "codemirror_mode": {
    "name": "ipython",
    "version": 3
   },
   "file_extension": ".py",
   "mimetype": "text/x-python",
   "name": "python",
   "nbconvert_exporter": "python",
   "pygments_lexer": "ipython3",
   "version": "3.7.2"
  }
 },
 "nbformat": 4,
 "nbformat_minor": 2
}
